{
 "cells": [
  {
   "cell_type": "markdown",
   "metadata": {},
   "source": [
    "# QOSF Task 4 Solution"
   ]
  },
  {
   "cell_type": "markdown",
   "metadata": {},
   "source": [
    "SHAH ISHMAM MOHTASHIM, \n",
    "DEPARTMENT OF CHEMISTRY, UNIVERSITY OF DHAKA\n",
    "\n",
    "Email: sishmam51@gmail.com"
   ]
  },
  {
   "cell_type": "markdown",
   "metadata": {},
   "source": [
    "The given task 4 was\n",
    "Finding the lowest eigenvalue of the following matrix:\n",
    " $$\\begin{pmatrix} 1 & 0 & 0 & 0 \\\\ 0 & 0 & -1 & 0 \\\\ 0 & -1 & 0 & 0 \\\\ 0 & 0 & 0 & 1 \\end{pmatrix}$$\n",
    "\n",
    "\n",
    "using VQE-like circuits, from scratch.\n"
   ]
  },
  {
   "cell_type": "markdown",
   "metadata": {},
   "source": [
    "# Solution"
   ]
  },
  {
   "cell_type": "markdown",
   "metadata": {},
   "source": [
    "# Decomposition of Matrix\n",
    "\n",
    "\n",
    "\n"
   ]
  },
  {
   "cell_type": "markdown",
   "metadata": {},
   "source": [
    "The matrix has to be decomposed as the sum of the tensor products of Pauli operators. The four Pauli matrices are:"
   ]
  },
  {
   "cell_type": "markdown",
   "metadata": {},
   "source": [
    "I = \\begin{pmatrix} 1 & 0 \\\\ 0 & 1 \\end{pmatrix}\n",
    "X = \\begin{pmatrix} 0 & 1 \\\\ 1 & 0 \\end{pmatrix}\n",
    "Y = \\begin{pmatrix} 0 &-i \\\\ i & 0 \\end{pmatrix}\n",
    "Z = \\begin{pmatrix} 1 & 0 \\\\ 0 &-1 \\end{pmatrix}"
   ]
  },
  {
   "cell_type": "markdown",
   "metadata": {},
   "source": [
    "The given matrix can be decomposed using the equations:\n",
    "\n",
    " $H = \\sum_{i,j=1,x,y,z} a_{i,j} \\left( \\sigma_i \\otimes \\sigma_j \\right),\n",
    "\\quad$\n",
    " $a_{i,j} = \\frac{1}{4} tr \\left[\\left( \\sigma_i \\otimes \\sigma_j \\right) H \\right]$\n",
    "\n",
    "\n",
    "Reference- https://michaelgoerz.net/notes/decomposing-two-qubit-hamiltonians-into-pauli-matrices.html"
   ]
  },
  {
   "cell_type": "markdown",
   "metadata": {},
   "source": [
    "The decomposition is implemented in code below:"
   ]
  },
  {
   "cell_type": "code",
   "execution_count": 35,
   "metadata": {},
   "outputs": [],
   "source": [
    "from qiskit import *\n",
    "import numpy as np \n",
    "from numpy import kron\n"
   ]
  },
  {
   "cell_type": "markdown",
   "metadata": {},
   "source": [
    "Reference for the docomposition function: https://michaelgoerz.net/notes/decomposing-two-qubit-hamiltonians-into-pauli-matrices.html"
   ]
  },
  {
   "cell_type": "code",
   "execution_count": 36,
   "metadata": {},
   "outputs": [],
   "source": [
    "def HS(M1, M2):\n",
    "    \"\"\"Hilbert-Schmidt-Product of two matrices M1, M2\"\"\"\n",
    "    return (np.dot(M1.conjugate().transpose(), M2)).trace()\n",
    "\n",
    "\n",
    "\n",
    "def decompose(H):\n",
    "    \"\"\"Decompose Hermitian 4x4 matrix H into Pauli matrices\"\"\"\n",
    "    from numpy import kron\n",
    "    sx = np.array([[0, 1],  [ 1, 0]], dtype=np.complex128)\n",
    "    sy = np.array([[0, -1j],[1j, 0]], dtype=np.complex128)\n",
    "    sz = np.array([[1, 0],  [0, -1]], dtype=np.complex128)\n",
    "    id = np.array([[1, 0],  [ 0, 1]], dtype=np.complex128)\n",
    "    S = [id, sx, sy, sz]\n",
    "    labels = ['I', 'sigma_x', 'sigma_y', 'sigma_z']\n",
    "    for i in range(4):\n",
    "        for j in range(4):\n",
    "            label = labels[i] + labels[j]\n",
    "            a_ij = 0.25 * HS(kron(S[i], S[j]), H)\n",
    "            if a_ij != 0.0:\n",
    "                print(a_ij,'*' ,label, '+')"
   ]
  },
  {
   "cell_type": "markdown",
   "metadata": {},
   "source": [
    "Constructing the given matrix M:"
   ]
  },
  {
   "cell_type": "code",
   "execution_count": 37,
   "metadata": {
    "scrolled": true
   },
   "outputs": [],
   "source": [
    "M = np.array([[1, 0, 0, 0], [0, 0, -1, 0], [0, -1, 0, 0], [0, 0, 0, 1]])\n",
    "\n"
   ]
  },
  {
   "cell_type": "markdown",
   "metadata": {},
   "source": [
    "Decomposing we get"
   ]
  },
  {
   "cell_type": "code",
   "execution_count": 38,
   "metadata": {},
   "outputs": [
    {
     "name": "stdout",
     "output_type": "stream",
     "text": [
      "(0.5+0j) * II +\n",
      "(-0.5+0j) * sigma_xsigma_x +\n",
      "(-0.5+0j) * sigma_ysigma_y +\n",
      "(0.5+0j) * sigma_zsigma_z +\n"
     ]
    }
   ],
   "source": [
    "decompose(M)"
   ]
  },
  {
   "cell_type": "markdown",
   "metadata": {},
   "source": [
    "# The decomposed matrix is \n",
    "$(0.5+0j) * II +\n",
    "(-0.5+0j) * XX +\n",
    "(-0.5+0j) * YY +\n",
    "(0.5+0j) * ZZ$\n",
    "\n",
    "\n",
    "\n"
   ]
  },
  {
   "cell_type": "markdown",
   "metadata": {},
   "source": [
    "The decomposed matrix can be written as hamiltonian\n",
    "H1+H2+H3+H4"
   ]
  },
  {
   "cell_type": "markdown",
   "metadata": {},
   "source": [
    "# Construction of Ansatz"
   ]
  },
  {
   "cell_type": "markdown",
   "metadata": {},
   "source": [
    "Ansatz is basically a trial wavefunction.\n",
    "The ansatz we use is: (RX I) CX (HI) |00>, where angle in RX is the variational parameter. (Provided by the hints from the task document)\n"
   ]
  },
  {
   "cell_type": "code",
   "execution_count": 39,
   "metadata": {},
   "outputs": [],
   "source": [
    "def ansatz(angle):\n",
    "    ckt = QuantumCircuit(2) \n",
    "    ckt.h(0)\n",
    "    ckt.cx(0, 1)\n",
    "    ckt.rx(angle, 0)\n",
    "  \n",
    "    \n",
    "    return ckt\n"
   ]
  },
  {
   "cell_type": "code",
   "execution_count": 40,
   "metadata": {},
   "outputs": [
    {
     "data": {
      "image/png": "[encoded data removed]",
      "text/plain": [
       "<Figure size 321.232x144.48 with 1 Axes>"
      ]
     },
     "execution_count": 40,
     "metadata": {},
     "output_type": "execute_result"
    }
   ],
   "source": [
    "'''\n",
    "Figure of Ansatz circuit\n",
    "'''\n",
    "ckt.draw(output='mpl')\n"
   ]
  },
  {
   "cell_type": "markdown",
   "metadata": {},
   "source": [
    "# Conversion to Z basis\n",
    "The only physical measurement that a quantum computer can do, is in the Z basis. Thus X and Y basis must be converted to Z basis before measurement.\n",
    "1) For Y, $RX(π/2)$ rotation is needed.\n",
    "2) For X, $RY(-π/2)$ rotation is needed\n",
    "\n",
    "And the circuits for ZZ,XX,YY measurements are done accordingly\n",
    "Reference: https://www.mustythoughts.com/variational-quantum-eigensolver-explained"
   ]
  },
  {
   "cell_type": "markdown",
   "metadata": {},
   "source": [
    "# Circuit Preparation for ZZ"
   ]
  },
  {
   "cell_type": "markdown",
   "metadata": {},
   "source": [
    "To meausre the expectation value for ZZ, rotations are not needed.\n"
   ]
  },
  {
   "cell_type": "code",
   "execution_count": 43,
   "metadata": {},
   "outputs": [
    {
     "data": {
      "image/png": "[encoded data removed]",
      "text/plain": [
       "<Figure size 532.259x204.68 with 1 Axes>"
      ]
     },
     "execution_count": 43,
     "metadata": {},
     "output_type": "execute_result"
    }
   ],
   "source": [
    "def zz_circuit(ckt):\n",
    "    zz_measure = ckt.copy()\n",
    "    zz_measure.measure_all()\n",
    "    return zz_measure\n",
    "\n",
    "zz_measure = zz_circuit(ckt)\n",
    "zz_measure.draw(output='mpl')\n"
   ]
  },
  {
   "cell_type": "markdown",
   "metadata": {},
   "source": [
    "# Circuit Preparation for XX\n"
   ]
  },
  {
   "cell_type": "markdown",
   "metadata": {},
   "source": [
    "For X, $RY(-π/2)$ rotation is needed"
   ]
  },
  {
   "cell_type": "code",
   "execution_count": 44,
   "metadata": {},
   "outputs": [
    {
     "data": {
      "image/png": "[encoded data removed]",
      "text/plain": [
       "<Figure size 652.659x204.68 with 1 Axes>"
      ]
     },
     "execution_count": 44,
     "metadata": {},
     "output_type": "execute_result"
    }
   ],
   "source": [
    "def xx_circuit(ckt):\n",
    "    xx_measure = ckt.copy()\n",
    "    \n",
    "    '''\n",
    "    Rotation by RY(-pie/2) for both qubits as shown by the figure of the circuit\n",
    "    '''\n",
    "    \n",
    "    xx_measure.barrier()\n",
    "    xx_measure.ry(-np.pi/2,0)\n",
    "    xx_measure.ry(-np.pi/2,1)\n",
    "    xx_measure.measure_all()\n",
    "    \n",
    "    return xx_measure\n",
    "\n",
    "xx_measure = xx_circuit(ckt)\n",
    "xx_measure.draw(output='mpl')"
   ]
  },
  {
   "cell_type": "markdown",
   "metadata": {},
   "source": [
    "# Circuit Preparation for YY"
   ]
  },
  {
   "cell_type": "markdown",
   "metadata": {},
   "source": [
    "For Y, $RX(π/2)$ rotation is needed"
   ]
  },
  {
   "cell_type": "code",
   "execution_count": 45,
   "metadata": {},
   "outputs": [
    {
     "data": {
      "image/png": "[encoded data removed]",
      "text/plain": [
       "<Figure size 652.659x204.68 with 1 Axes>"
      ]
     },
     "execution_count": 45,
     "metadata": {},
     "output_type": "execute_result"
    }
   ],
   "source": [
    "def yy_circuit(ckt):\n",
    "    yy_measure = ckt.copy()\n",
    "    '''\n",
    "    Rotation by RX(pie/2) as shown by the figure of the circuit\n",
    "    '''\n",
    "    yy_measure.barrier()\n",
    "    yy_measure.rx(np.pi/2, 0)\n",
    "    yy_measure.rx(np.pi/2, 1)\n",
    "    yy_measure.measure_all()\n",
    "    \n",
    "    return yy_measure\n",
    "\n",
    "yy_measure = yy_circuit(ckt)\n",
    "yy_measure.draw(output='mpl')"
   ]
  },
  {
   "cell_type": "markdown",
   "metadata": {},
   "source": [
    "# Measurement of Expectation Values"
   ]
  },
  {
   "cell_type": "markdown",
   "metadata": {},
   "source": [
    "To simulate the circuit for expectation values, qasm simulator is used.  The II term is added as a constant and no meausurement is necessary. \n",
    "\n",
    "For expactation values measured in ZZ, the values are calculated as\n",
    "1 for 00 and 11 states and  -1 for 01 and 10 states. The values must be averaged over the total number of shots(=1024).\n",
    "\n",
    "\n",
    "\n",
    "\n"
   ]
  },
  {
   "cell_type": "code",
   "execution_count": 46,
   "metadata": {},
   "outputs": [],
   "source": [
    "simulator = Aer.get_backend('qasm_simulator')\n"
   ]
  },
  {
   "cell_type": "markdown",
   "metadata": {},
   "source": [
    "For ZZ meausrement:"
   ]
  },
  {
   "cell_type": "code",
   "execution_count": 47,
   "metadata": {},
   "outputs": [],
   "source": [
    "def ZZ(ckt, shots = 1024):\n",
    "    \n",
    "    zz_measure = zz_circuit(ckt)\n",
    "    \n",
    "    result = execute(zz_measure, backend = simulator, shots = shots).result()\n",
    "    \n",
    "    \n",
    "    '''\n",
    "    (number of  ( 00 )  and (11) states measured) - (the number of (01) and (10) state measured )\n",
    "    normalized over the number of shots\n",
    "    00 and 11 has positive signs after application of ZZ gates and 01 and 10 has negative signs\n",
    "    '''\n",
    "    \n",
    "    \n",
    "    items =result.get_counts(zz_measure).items()\n",
    "    \n",
    "    s = 0\n",
    "    for key, counts in items:\n",
    "        s+= (-1)**(int(key[0])+int(key[1]))*counts\n",
    "    \n",
    "    s = s/shots\n",
    "        \n",
    "    return s\n",
    "\n",
    "    print(s)\n",
    "    "
   ]
  },
  {
   "cell_type": "markdown",
   "metadata": {},
   "source": [
    "For XX measurement; The appropriate rotations has been completed before."
   ]
  },
  {
   "cell_type": "code",
   "execution_count": 48,
   "metadata": {},
   "outputs": [],
   "source": [
    "def XX(ckt, shots = 1024):\n",
    "    \n",
    "    xx_measure = xx_circuit(ckt)\n",
    "    \n",
    "    result = execute(xx_measure, backend = simulator, shots = shots).result()\n",
    "    \n",
    "    '''\n",
    "    (number of  ( 00 )  and (11) states measured) - (the number of (01) and (10) state measured)\n",
    "    normalized over the number of shots\n",
    "    00 and 11 has positive signs after application of ZZ  and 01 and 10 has negative signs\n",
    "    '''\n",
    "    \n",
    "    \n",
    "    items =result.get_counts(xx_measure).items()\n",
    "    \n",
    "    s = 0\n",
    "    for key, counts in items:\n",
    "        s+= (-1)**(int(key[0])+int(key[1]))*counts\n",
    "    \n",
    "    s = s/shots\n",
    "        \n",
    "    return s\n",
    "    \n",
    "    "
   ]
  },
  {
   "cell_type": "markdown",
   "metadata": {},
   "source": [
    "For YY measurement; The appropriate rotations has been completed before"
   ]
  },
  {
   "cell_type": "code",
   "execution_count": 49,
   "metadata": {},
   "outputs": [],
   "source": [
    "def YY(ckt, shots = 1024):\n",
    "    \n",
    "    yy_measure = yy_circuit(ckt)\n",
    "    \n",
    "    result = execute(yy_measure, backend = simulator, shots = shots).result()\n",
    "    \n",
    "    \n",
    "    \n",
    "    '''\n",
    "    (number of  ( 00 )  and (11) states measured) - (the number of (01) and (10) state measured)\n",
    "    normalized over the number of shots\n",
    "    00 and 11 has positive signs after application of ZZ  and 01 and 10 has negative signs\n",
    "    '''\n",
    "    \n",
    "    items =result.get_counts(yy_measure).items()\n",
    "    \n",
    "    s = 0\n",
    "    for key, counts in items:\n",
    "        s+= (-1)**(int(key[0])+int(key[1]))*counts\n",
    "    \n",
    "    s = s/shots\n",
    "        \n",
    "    return s\n",
    "    \n",
    "  \n",
    "   "
   ]
  },
  {
   "cell_type": "markdown",
   "metadata": {},
   "source": [
    "# Function to evaluate the expectation value of Matrix M"
   ]
  },
  {
   "cell_type": "code",
   "execution_count": 50,
   "metadata": {},
   "outputs": [],
   "source": [
    "def H(ckt, shots = 1024):\n",
    "    \n",
    "    zz = ZZ (ckt, shots=1024)\n",
    "    xx = XX (ckt, shots=1024)\n",
    "    yy = YY (ckt, shots=1024)\n",
    "    \n",
    "    E = 0.5*1 + (-0.5)*xx + (-0.5)*yy + 0.5*zz \n",
    "    '''\n",
    "    All the individual pauli terms/decomposed hamiltonions are added up \n",
    "    '''\n",
    " \n",
    "    \n",
    "    return E"
   ]
  },
  {
   "cell_type": "markdown",
   "metadata": {},
   "source": [
    "# Iteration till the lowest value is found"
   ]
  },
  {
   "cell_type": "code",
   "execution_count": 51,
   "metadata": {},
   "outputs": [
    {
     "name": "stdout",
     "output_type": "stream",
     "text": [
      "The lowest eigenvalue of the given matrix is -1.0\n"
     ]
    }
   ],
   "source": [
    "minimum_array=[]\n",
    "minimum_energy = 100\n",
    "for i in range(0, 361):\n",
    "    ckt = ansatz(i*np.pi/180)\n",
    "    energy = H(ckt) \n",
    "    minimum_array.append(energy)\n",
    "    value = np.array(minimum_array)\n",
    "    \n",
    "    if (minimum_energy > energy):\n",
    "        minimum_energy = energy\n",
    "\n",
    "print(\"The lowest eigenvalue of the given matrix is\",minimum_energy)"
   ]
  },
  {
   "cell_type": "markdown",
   "metadata": {},
   "source": [
    "# Checking the minimum eigenvalue directly (Classical approach)"
   ]
  },
  {
   "cell_type": "code",
   "execution_count": 52,
   "metadata": {
    "scrolled": true
   },
   "outputs": [
    {
     "name": "stdout",
     "output_type": "stream",
     "text": [
      "Lowest eigenvalue found classicaly is -1.0\n"
     ]
    }
   ],
   "source": [
    "w = np.linalg.eigvals(M)\n",
    "print(f'Lowest eigenvalue found classicaly is {min(w)}')"
   ]
  },
  {
   "cell_type": "markdown",
   "metadata": {},
   "source": [
    "# Plot of the results"
   ]
  },
  {
   "cell_type": "code",
   "execution_count": 53,
   "metadata": {},
   "outputs": [
    {
     "data": {
      "image/png": "[encoded data removed]",
      "text/plain": [
       "<Figure size 432x288 with 1 Axes>"
      ]
     },
     "metadata": {
      "needs_background": "light"
     },
     "output_type": "display_data"
    }
   ],
   "source": [
    "import matplotlib.pyplot as plt\n",
    "angles = np.linspace(0.0, 2.0 * np.pi, 361)\n",
    "\n",
    "\n",
    "\n",
    "plt.plot(angles, value, linewidth=3, color='mediumseagreen')\n",
    "plt.xlabel('Angle(Radian)',fontsize=16)\n",
    "plt.ylabel('Expectation value',fontsize=16)\n",
    "plt.title('Expectation value vs Angle',fontsize=16)\n",
    "\n",
    "plt.show()\n",
    "\n",
    "\n"
   ]
  }
 ],
 "metadata": {
  "kernelspec": {
   "display_name": "Python 3",
   "language": "python",
   "name": "python3"
  },
  "language_info": {
   "codemirror_mode": {
    "name": "ipython",
    "version": 3
   },
   "file_extension": ".py",
   "mimetype": "text/x-python",
   "name": "python",
   "nbconvert_exporter": "python",
   "pygments_lexer": "ipython3",
   "version": "3.6.5"
  }
 },
 "nbformat": 4,
 "nbformat_minor": 4
}
